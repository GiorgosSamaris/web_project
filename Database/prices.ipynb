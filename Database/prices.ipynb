{
 "cells": [
  {
   "cell_type": "code",
   "execution_count": 4,
   "id": "351b8b8b",
   "metadata": {},
   "outputs": [
    {
     "name": "stdout",
     "output_type": "stream",
     "text": [
      "12\n"
     ]
    },
    {
     "name": "stderr",
     "output_type": "stream",
     "text": [
      "/tmp/ipykernel_7052/2750024456.py:32: DeprecationWarning: executable_path has been deprecated, please pass in a Service object\n",
      "  browser = webdriver.Chrome(options=options, executable_path='/usr/bin/chromedriver')\n"
     ]
    },
    {
     "name": "stdout",
     "output_type": "stream",
     "text": [
      "13\n",
      "14\n",
      "15\n",
      "16\n",
      "17\n",
      "18\n",
      "19\n",
      "20\n",
      "21\n",
      "Done\n"
     ]
    }
   ],
   "source": [
    "#install latest Chrome driver to your machine https://sites.google.com/chromium.org/driver/\n",
    "#install Beautiful Soup \n",
    "#install selenium\n",
    "\n",
    "#imports\n",
    "from bs4 import BeautifulSoup\n",
    "from selenium import webdriver\n",
    "from selenium.common import exceptions\n",
    "import time\n",
    "import json \n",
    "\n",
    "\n",
    "#base product URL\n",
    "URL = \"https://e-katanalotis.gov.gr/product/\"\n",
    "min_id = 12\n",
    "max_id = 22\n",
    "\n",
    "#creates a list [min_id...max_id-1]\n",
    "productids = range(min_id, max_id)\n",
    "\n",
    "#final JSON\n",
    "results = {}\n",
    "results['fetch_date']=int(time.time())\n",
    "results['data']=[]\n",
    "\n",
    "#get product information\n",
    "for productid in productids:\n",
    "    print(productid)\n",
    "    options = webdriver.ChromeOptions()\n",
    "    options.add_argument('--headless')\n",
    "    # executable_path param is where the Chrome driver is installed\n",
    "    browser = webdriver.Chrome(options=options, executable_path='/usr/bin/chromedriver')\n",
    "    browser.get(URL+str(productid))\n",
    "\n",
    "    #get dates from price chart\n",
    "    try:\n",
    "        date_data = browser.execute_script('return Highcharts.charts[0].series[0].data.map(x => x.category)')\n",
    "    except exceptions.JavascriptException as e:\n",
    "        continue\n",
    "    #append year to date labels\n",
    "    date_data = [s +'/2022' for s in date_data]\n",
    "\n",
    "    #get prices from price chart\n",
    "    try:\n",
    "        price_data = browser.execute_script('return Highcharts.charts[0].series[0].data.map(x => x.y)')\n",
    "    except exceptions.JavascriptException as e:\n",
    "        continue\n",
    "    #find product name\n",
    "    html = browser.page_source\n",
    "    soup = BeautifulSoup(html, features=\"html5lib\")\n",
    "\n",
    "    #test html rendering\n",
    "    # print(soup.prettify())\n",
    "\n",
    "    try:\n",
    "        # pname = soup.find('p', attrs={'class':'product-name'}).get_text()\n",
    "        pname = soup.find('p', attrs={'class':'product-category-name'}).get_text() \n",
    "    except AttributeError as e:\n",
    "        continue\n",
    "    browser.quit()\n",
    "\n",
    "    #transform dates\n",
    "\n",
    "    for i in range(len(date_data)-1):\n",
    "        dparts = date_data[i].split(\"/\")\n",
    "        newd = '2022-'+dparts[1]+'-'+dparts[0]\n",
    "        date_data[i]=newd\n",
    "        \n",
    "    #create a result object\n",
    "    result = {}\n",
    "    result['id']=productid\n",
    "    result['name']=pname\n",
    "    result['prices']=[]\n",
    "    for i in range(len(date_data)-1):\n",
    "        result['prices'].append({'date':date_data[i], 'price':price_data[i]})\n",
    "    \n",
    "    #append it to the list\n",
    "    results['data'].append(result)\n",
    "\n",
    "print('Done')"
   ]
  },
  {
   "cell_type": "code",
   "execution_count": 5,
   "id": "00867f71",
   "metadata": {},
   "outputs": [
    {
     "name": "stdout",
     "output_type": "stream",
     "text": [
      "{\n",
      "  \"fetch_date\": 1670318130,\n",
      "  \"data\": []\n",
      "}\n"
     ]
    }
   ],
   "source": [
    "#inspect final JSON\n",
    "json_object = json.dumps(results, indent = 2, ensure_ascii=False).encode('utf8')\n",
    "print(json_object.decode())"
   ]
  },
  {
   "cell_type": "code",
   "execution_count": 6,
   "id": "670fa6ae",
   "metadata": {},
   "outputs": [],
   "source": [
    "#save final JSON to file\n",
    "with open(\"output_\"+str(productids[0])+\"_\"+str(productids[len(productids)-1])+\"_\"+str(results['fetch_date'])+\".json\", \"w\", encoding='utf-8') as outfile:\n",
    "    json.dump(results, outfile, ensure_ascii=False ,indent=2)"
   ]
  },
  {
   "cell_type": "code",
   "execution_count": null,
   "id": "9914ac07",
   "metadata": {},
   "outputs": [],
   "source": []
  }
 ],
 "metadata": {
  "kernelspec": {
   "display_name": "Python 3.8.10 64-bit",
   "language": "python",
   "name": "python3"
  },
  "language_info": {
   "codemirror_mode": {
    "name": "ipython",
    "version": 3
   },
   "file_extension": ".py",
   "mimetype": "text/x-python",
   "name": "python",
   "nbconvert_exporter": "python",
   "pygments_lexer": "ipython3",
   "version": "3.8.10"
  },
  "vscode": {
   "interpreter": {
    "hash": "916dbcbb3f70747c44a77c7bcd40155683ae19c65e1c03b4aa3499c5328201f1"
   }
  }
 },
 "nbformat": 4,
 "nbformat_minor": 5
}
